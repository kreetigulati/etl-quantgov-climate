{
 "cells": [
  {
   "cell_type": "code",
   "execution_count": 1,
   "metadata": {},
   "outputs": [
    {
     "name": "stdout",
     "output_type": "stream",
     "text": [
      "Collecting regcensus\n",
      "  Downloading regcensus-0.2.3.tar.gz (8.0 kB)\n",
      "Building wheels for collected packages: regcensus\n",
      "  Building wheel for regcensus (setup.py): started\n",
      "  Building wheel for regcensus (setup.py): finished with status 'done'\n",
      "  Created wheel for regcensus: filename=regcensus-0.2.3-py3-none-any.whl size=4317 sha256=f6b0764387127c20dd8a844530efad8a57acbdce9ab5d699ca6f70e00f674d98\n",
      "  Stored in directory: c:\\users\\nico santoso\\appdata\\local\\pip\\cache\\wheels\\36\\21\\e3\\6220c43ed83ca427aab961623166cb4d52c1c7edb7b5265135\n",
      "Successfully built regcensus\n",
      "Installing collected packages: regcensus\n",
      "Successfully installed regcensus-0.2.3\n"
     ]
    }
   ],
   "source": [
    "!pip install regcensus"
   ]
  },
  {
   "cell_type": "code",
   "execution_count": 3,
   "metadata": {},
   "outputs": [],
   "source": [
    "import regcensus as rc\n",
    "import requests\n",
    "import pandas as pd"
   ]
  },
  {
   "cell_type": "code",
   "execution_count": 4,
   "metadata": {},
   "outputs": [
    {
     "data": {
      "text/plain": [
       "{'Alabama': 59,\n",
       " 'Alaska': 58,\n",
       " 'Alberta': 2,\n",
       " 'Arizona': 65,\n",
       " 'Arkansas': 99,\n",
       " 'Australia': 84,\n",
       " 'British Columbia': 4,\n",
       " 'California': 51,\n",
       " 'Canada': 33,\n",
       " 'Colorado': 70,\n",
       " 'Connecticut': 71,\n",
       " 'Delaware': 53,\n",
       " 'District of Columbia': 88,\n",
       " 'Florida': 72,\n",
       " 'Georgia': 54,\n",
       " 'Hawaii': 100,\n",
       " 'Idaho': 44,\n",
       " 'Illinois': 73,\n",
       " 'India': 101,\n",
       " 'Indiana': 32,\n",
       " 'Iowa': 74,\n",
       " 'Kansas': 64,\n",
       " 'Kentucky': 10,\n",
       " 'Louisiana': 55,\n",
       " 'Maine': 42,\n",
       " 'Manitoba': 11,\n",
       " 'Maryland': 75,\n",
       " 'Massachusetts': 96,\n",
       " 'Michigan': 77,\n",
       " 'Minnesota': 14,\n",
       " 'Mississippi': 47,\n",
       " 'Missouri': 15,\n",
       " 'Montana': 52,\n",
       " 'Nebraska': 78,\n",
       " 'Nevada': 35,\n",
       " 'New Brunswick': 17,\n",
       " 'New Hampshire': 41,\n",
       " 'New Jersey': 98,\n",
       " 'New Mexico': 39,\n",
       " 'New South Wales': 89,\n",
       " 'New York': 66,\n",
       " 'Newfoundland and Labrador': 49,\n",
       " 'North Carolina': 79,\n",
       " 'North Dakota': 86,\n",
       " 'Northwest Territories': 45,\n",
       " 'Nova Scotia': 36,\n",
       " 'Nunavut': 37,\n",
       " 'Ohio': 20,\n",
       " 'Oklahoma': 43,\n",
       " 'Ontario': 87,\n",
       " 'Oregon': 80,\n",
       " 'Pennsylvania': 23,\n",
       " 'Prince Edward Island': 50,\n",
       " 'Quebec': 24,\n",
       " 'Queensland': 90,\n",
       " 'Rhode Island': 83,\n",
       " 'Saskatchewan': 48,\n",
       " 'South Australia': 91,\n",
       " 'South Carolina': 40,\n",
       " 'South Dakota': 56,\n",
       " 'Tasmania': 92,\n",
       " 'Tennessee': 25,\n",
       " 'Texas': 81,\n",
       " 'United States': 38,\n",
       " 'Utah': 82,\n",
       " 'Vermont': 97,\n",
       " 'Victoria': 93,\n",
       " 'Virginia': 68,\n",
       " 'Washington': 63,\n",
       " 'West Virginia': 85,\n",
       " 'Western Australia': 94,\n",
       " 'Wisconsin': 67,\n",
       " 'Wyoming': 31,\n",
       " 'Yukon': 46}"
      ]
     },
     "execution_count": 4,
     "metadata": {},
     "output_type": "execute_result"
    }
   ],
   "source": [
    "juris = rc.list_jurisdictions()\n",
    "juris"
   ]
  },
  {
   "cell_type": "code",
   "execution_count": null,
   "metadata": {},
   "outputs": [],
   "source": []
  }
 ],
 "metadata": {
  "kernelspec": {
   "display_name": "Python 3",
   "language": "python",
   "name": "python3"
  },
  "language_info": {
   "codemirror_mode": {
    "name": "ipython",
    "version": 3
   },
   "file_extension": ".py",
   "mimetype": "text/x-python",
   "name": "python",
   "nbconvert_exporter": "python",
   "pygments_lexer": "ipython3",
   "version": "3.8.5"
  }
 },
 "nbformat": 4,
 "nbformat_minor": 4
}
